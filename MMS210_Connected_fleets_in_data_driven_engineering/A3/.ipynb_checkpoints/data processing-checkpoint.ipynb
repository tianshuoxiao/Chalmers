{
 "cells": [
  {
   "cell_type": "code",
   "execution_count": 2,
   "id": "72b1b0ad",
   "metadata": {},
   "outputs": [],
   "source": [
    "# Open the output.txt file for reading\n",
    "with open('output.txt', 'r') as f:\n",
    "    lines = f.readlines()\n",
    "\n",
    "# Extract content after \"It is\" from each line\n",
    "content_list = []\n",
    "for line in lines:\n",
    "    if 'It is' in line:\n",
    "        content = line.split('It is:', 1)[1].strip()\n",
    "        content_list.append(content)\n",
    "\n",
    "# Save the extracted contents\n",
    "with open('key.txt', 'w') as f:\n",
    "    for content in content_list:\n",
    "        f.write(content + '\\n')"
   ]
  },
  {
   "cell_type": "code",
   "execution_count": 5,
   "id": "faf4fa60",
   "metadata": {},
   "outputs": [],
   "source": [
    "# Read the lines from output.txt\n",
    "with open('vehicle_ids.txt', 'r') as f:\n",
    "    output_lines = f.readlines()\n",
    "\n",
    "# Read the lines from vehicle_ids.txt\n",
    "with open('key.txt', 'r') as f:\n",
    "    vehicle_ids_lines = f.readlines()\n",
    "\n",
    "# Merge the lines together\n",
    "merged_lines = []\n",
    "for output_line, vehicle_id_line in zip(output_lines, vehicle_ids_lines):\n",
    "    merged_line = output_line.strip() + ' ' + vehicle_id_line.strip()\n",
    "    merged_lines.append(merged_line)\n",
    "\n",
    "# Write the merged lines to merged_output.txt\n",
    "with open('merged_output.txt', 'w') as f:\n",
    "    for line in merged_lines:\n",
    "        f.write(line + '\\n')\n"
   ]
  }
 ],
 "metadata": {
  "kernelspec": {
   "display_name": "Python 3 (ipykernel)",
   "language": "python",
   "name": "python3"
  },
  "language_info": {
   "codemirror_mode": {
    "name": "ipython",
    "version": 3
   },
   "file_extension": ".py",
   "mimetype": "text/x-python",
   "name": "python",
   "nbconvert_exporter": "python",
   "pygments_lexer": "ipython3",
   "version": "3.9.16"
  }
 },
 "nbformat": 4,
 "nbformat_minor": 5
}
