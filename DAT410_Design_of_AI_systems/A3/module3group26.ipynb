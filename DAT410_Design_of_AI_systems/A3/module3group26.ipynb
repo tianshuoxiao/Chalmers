{
 "cells": [
  {
   "cell_type": "code",
   "execution_count": 2,
   "id": "bb202bbb",
   "metadata": {},
   "outputs": [
    {
     "name": "stderr",
     "output_type": "stream",
     "text": [
      "C:\\Users\\WU\\AppData\\Local\\Temp\\ipykernel_73688\\2366717955.py:10: FutureWarning: The frame.append method is deprecated and will be removed from pandas in a future version. Use pandas.concat instead.\n",
      "  df_train = df_bj.append(df_sy)\n"
     ]
    }
   ],
   "source": [
    "import pandas as pd\n",
    "import numpy as np\n",
    "from sklearn.cluster import KMeans\n",
    "import matplotlib.pyplot as plt\n",
    "\n",
    "df_bj = pd.read_csv('./Cities/Beijing_labeled.csv')\n",
    "df_sy = pd.read_csv('./Cities/Shenyang_labeled.csv')\n",
    "df_gz = pd.read_csv('./Cities/Guangzhou_labeled.csv')\n",
    "df_sh = pd.read_csv('./Cities/Shanghai_labeled.csv')\n",
    "df_train = df_bj.append(df_sy)\n",
    "\n",
    "Ytrain = df_train['PM_HIGH']\n",
    "Xtrain = df_train.drop(columns = ['PM_HIGH'])\n",
    "ytrain = Ytrain.to_numpy()\n",
    "\n",
    "Ytest_gz = df_gz['PM_HIGH']\n",
    "Ytest_sh = df_sh['PM_HIGH']\n",
    "\n",
    "Xtest_gz = df_gz.drop(columns = ['PM_HIGH'])\n",
    "Xtest_sh = df_sh.drop(columns = ['PM_HIGH'])\n",
    "\n",
    "ytest_gz = Ytest_gz.to_numpy()\n",
    "ytest_sh = Ytest_sh.to_numpy()\n",
    "\n"
   ]
  },
  {
   "cell_type": "code",
   "execution_count": 6,
   "id": "b47522e7",
   "metadata": {},
   "outputs": [
    {
     "name": "stderr",
     "output_type": "stream",
     "text": [
      "D:\\anaconda\\lib\\site-packages\\sklearn\\cluster\\_kmeans.py:1036: UserWarning: KMeans is known to have a memory leak on Windows with MKL, when there are less chunks than available threads. You can avoid it by setting the environment variable OMP_NUM_THREADS=12.\n",
      "  warnings.warn(\n"
     ]
    },
    {
     "data": {
      "text/plain": [
       "Text(0, 0.5, 'inertia')"
      ]
     },
     "execution_count": 6,
     "metadata": {},
     "output_type": "execute_result"
    },
    {
     "data": {
      "image/png": "[encoded data removed]",
      "text/plain": [
       "<Figure size 640x480 with 1 Axes>"
      ]
     },
     "metadata": {},
     "output_type": "display_data"
    }
   ],
   "source": [
    "ks = range(1,8)\n",
    "dis = []\n",
    "for k_e in ks:\n",
    "    kmeans = KMeans(n_clusters = k_e ,random_state = 0)\n",
    "    kmeans.fit(Xtrain)\n",
    "    dis.append(kmeans.inertia_)\n",
    "plt.plot(ks,dis)\n",
    "plt.title('Elbow Curve')\n",
    "plt.xlabel('k-value')\n",
    "plt.ylabel('inertia')"
   ]
  },
  {
   "cell_type": "code",
   "execution_count": 59,
   "id": "cdc0f0b7",
   "metadata": {},
   "outputs": [
    {
     "name": "stdout",
     "output_type": "stream",
     "text": [
      "0.9363905325443787\n",
      "0.7250431778929188\n"
     ]
    }
   ],
   "source": [
    "class K_Means(object):\n",
    "    def __init__(self,k):\n",
    "        self.k = k\n",
    "    def fit(self,x_train_df,y_train_df):\n",
    "        ''' generate a mapping reflecting the label of each centroid'''\n",
    "        \n",
    "        x_train = x_train_df.to_numpy()\n",
    "        self.x_train = x_train\n",
    "        self.y_train = y_train_df.to_numpy()\n",
    "        # use kmeans to allocate data to different clusters\n",
    "        self.kmeans = KMeans(self.k)\n",
    "        self.kmeans.fit(self.x_train)\n",
    "        # find out which cluster each data belongs to\n",
    "        centroid_labels = self.kmeans.labels_\n",
    "        labels = []\n",
    "        # create the mapping as a dictionary\n",
    "        self.dic_ref = dict.fromkeys(range(self.k),0)\n",
    "        for i in range(self.k):\n",
    "            # create a list to store the labels of the data in each cluster\n",
    "            labels.append([])\n",
    "            # get the index of the data in each centroid\n",
    "            label_value = list(np.where(centroid_labels==i)[0])\n",
    "            for j in range(len(label_value)):\n",
    "                labels[i].append(ytrain[label_value[j]])\n",
    "            # judge what's the majority label of each centroid\n",
    "            if labels[i].count(0)/len(labels[i])>0.5:\n",
    "                self.dic_ref[i] = 0\n",
    "            else:\n",
    "                self.dic_ref[i] = 1\n",
    "        self.ytrain_fit = []\n",
    "        # predict the label of train data\n",
    "        for i in range(len(centroid_labels)):\n",
    "            for key, value in self.dic_ref.items():\n",
    "                if centroid_labels[i] == key:\n",
    "                    self.ytrain_fit.append(value)\n",
    "        \n",
    "    def predict(self, x_test_df, y_test_df):\n",
    "        '''predict the label on test set'''\n",
    "        self.x_test = x_test_df.to_numpy()\n",
    "        self.y_test = y_test_df.to_numpy()\n",
    "        centroid_labels_test = self.kmeans.predict(self.x_test)\n",
    "        self.ytest_predict = []\n",
    "        for i in range(len(centroid_labels_test)):\n",
    "            for key, value in self.dic_ref.items():\n",
    "                if centroid_labels_test[i] == key:\n",
    "                    self.ytest_predict.append(value)\n",
    "        \n",
    "        return self.ytest_predict\n",
    "        \n",
    "    def score(self, y_guess, y_test):\n",
    "        '''evaluate the prediction'''\n",
    "        Y_test = list(y_test)\n",
    "        count1 = 0\n",
    "        count2 = 0\n",
    "        for i in Y_test:\n",
    "            if Y_test[count2] == y_guess[count2]:\n",
    "                count1=count1+1\n",
    "            count2=count2+1\n",
    "        return count1/count2\n",
    "    \n",
    "    def score_train(self, y_train):\n",
    "        '''evaluate the model'''\n",
    "        Y_train = list(y_train)\n",
    "        count1 = 0\n",
    "        count2 = 0\n",
    "        for i in Y_train:\n",
    "            if Y_train[count2] == self.ytrain_fit[count2]:\n",
    "                count1=count1+1\n",
    "            count2=count2+1\n",
    "        return count1/count2\n",
    "    \n",
    "    def error(self, y_train):\n",
    "        '''calculate the mean squared error of the model'''\n",
    "        ytrain_predict = np.array(self.ytrain_fit)\n",
    "        y_error = (ytrain_predict-y_train)**2\n",
    "        error = sum(y_error)/len(y_error)\n",
    "        return error\n",
    "        \n",
    "        \n",
    "clf = K_Means(4) \n",
    "clf.fit(Xtrain,Ytrain) \n",
    "y_guess_gz = clf.predict(Xtest_gz,Ytest_gz) \n",
    "print(clf.score(y_guess_gz, ytest_gz))  \n",
    "print(clf.score_train(ytrain)) \n",
    "\n"
   ]
  },
  {
   "cell_type": "code",
   "execution_count": 57,
   "id": "14999777",
   "metadata": {},
   "outputs": [
    {
     "name": "stdout",
     "output_type": "stream",
     "text": [
      "0.9015544041450777\n",
      "0.7250431778929188\n"
     ]
    }
   ],
   "source": [
    "y_guess_sh = clf.predict(Xtest_sh,Ytest_sh) \n",
    "print(clf.score(y_guess_sh, ytest_sh))  \n",
    "print(clf.score_train(ytrain)) "
   ]
  }
 ],
 "metadata": {
  "kernelspec": {
   "display_name": "Python 3 (ipykernel)",
   "language": "python",
   "name": "python3"
  },
  "language_info": {
   "codemirror_mode": {
    "name": "ipython",
    "version": 3
   },
   "file_extension": ".py",
   "mimetype": "text/x-python",
   "name": "python",
   "nbconvert_exporter": "python",
   "pygments_lexer": "ipython3",
   "version": "3.9.12"
  }
 },
 "nbformat": 4,
 "nbformat_minor": 5
}
